{
 "cells": [
  {
   "cell_type": "code",
   "execution_count": 10,
   "metadata": {},
   "outputs": [],
   "source": [
    "from openai import OpenAI\n",
    "import json\n",
    "\n",
    "client = OpenAI()\n",
    "\n",
    "completion = client.chat.completions.create(\n",
    "      model=\"gpt-4-0125-preview\",\n",
    "      response_format={ \"type\": \"json_object\" },\n",
    "      messages=[\n",
    "        {\"role\": \"system\", \"content\": \"너는 지금부터 간판을 인식한 결과로 단어 리스트를 받으면 여기서 간판의 이름과 전화번호 등을 추론하는 역할을 수행할거야.\"},\n",
    "        {\"role\": \"system\", \"content\": \"입력으로 주어지는 단어는 가끔 부정확하거나 빠진 것이 있을 수 있어.\"},\n",
    "        {\"role\": \"system\", \"content\": \"결과 형식은 {'간판 이름': , '전화번호': , '지역': , '지점': } 의 json 형식이야.\"},\n",
    "        {\"role\": \"system\", \"content\": \"각 항목에 대해 추론이 불가한 경우 xxx로 표시해줘\"},\n",
    "        {\"role\": \"user\", \"content\": str([\"웅진씽\", \"크빅\",  \"영남점\", \"당리학원\", \"266-8625\", \"THINK BIG\", \"학습센터\"])}\n",
    "      ]\n",
    ")\n"
   ]
  },
  {
   "cell_type": "code",
   "execution_count": 12,
   "metadata": {},
   "outputs": [
    {
     "data": {
      "text/plain": [
       "{'간판 이름': '웅진씽크빅 학습센터', '전화번호': '266-8625', '지역': '영남', '지점': '당리'}"
      ]
     },
     "execution_count": 12,
     "metadata": {},
     "output_type": "execute_result"
    }
   ],
   "source": [
    "json.loads(completion.choices[0].message.content)"
   ]
  },
  {
   "cell_type": "code",
   "execution_count": 31,
   "metadata": {},
   "outputs": [],
   "source": [
    "from openai import OpenAI\n",
    "import json\n",
    "\n",
    "client = OpenAI()\n",
    "\n",
    "label = [{\"transcription\": \"무등왕돈까스\", \"points\": [[2032, 135], [434, 135], [434, 400], [2032, 400]]}, \n",
    " {\"transcription\": \"진짜 왕쫄면\", \"points\": [[3192, 90], [2372, 90], [2372, 257], [3192, 257]]}, \n",
    " {\"transcription\": \"062)3840502\", \"points\": [[2394, 277], [3199, 277], [3199, 377], [2394, 377]]}, \n",
    " {\"transcription\": \"(한자)\", \"points\": [[199, 170], [332, 170], [332, 410], [199, 410]]}]\n",
    "completion = client.chat.completions.create(\n",
    "      model=\"gpt-4-0125-preview\",\n",
    "      response_format={ \"type\": \"json_object\" },\n",
    "      messages=[\n",
    "        {\"role\": \"system\", \"content\": \"너는 지금부터 간판을 인식한 결과로 단어 리스트를 받으면 여기서 간판의 이름과 전화번호 등을 추론하는 역할을 수행할거야.\"},\n",
    "        {\"role\": \"system\", \"content\": \"입력으로 주어지는 단어는 가끔 부정확하거나 빠진 것이 있을 수 있어.\"},\n",
    "        {\"role\": \"system\", \"content\": \"결과 형식은 {'간판 이름': 추론 결과, '전화번호': 추론 결과, '지역': 추론 결과, '지점': 추론 결과} 의 json 형식이야.\"},\n",
    "        {\"role\": \"system\", \"content\": \"추론 결과는 {'top1': 결과, 'top2': 결과, 'top3': 결과, 'top4': 결과, 'top5': 결과} 형식이다.\"},\n",
    "        {\"role\": \"system\", \"content\": \"결과는 {'추론': , '근거': } 형식이다.\"},        \n",
    "        {\"role\": \"system\", \"content\": \"각 항목에 대해 추론이 불가한 경우 xxx로 표시해줘\"},\n",
    "        {\"role\": \"system\", \"content\": \"transcription은 추론된 단어고 points는 추론된 bounding box 영역이야.\"},\n",
    "        {\"role\": \"system\", \"content\": \"영역의 위치와 크기를 잘 고려해서 단어를 연결하고 정보를 추론해줘\"},\n",
    "        {\"role\": \"system\", \"content\": \"단어가 이상하면 교정을 해도 돼\"},\n",
    "        {\"role\": \"system\", \"content\": \"각 항목에 대해 확률이 높은 5가지 추론 결과를 리스트로 보여줘\"},\n",
    "        {\"role\": \"system\", \"content\": \"각 결과에 대해 근거도 제시해줘\"},\n",
    "        {\"role\": \"user\", \"content\": str(label)}\n",
    "      ]\n",
    ")\n"
   ]
  },
  {
   "cell_type": "code",
   "execution_count": 32,
   "metadata": {},
   "outputs": [
    {
     "data": {
      "text/plain": [
       "{'간판 이름': {'top1': {'추론': '무등왕돈까스', '근거': '무등왕돈까스가 가장 큰 폰트와 중앙 위치를 차지하고 있음'},\n",
       "  'top2': {'추론': '진짜 왕쫄면', '근거': '간판 오른쪽에 위치하지만 두 번째로 큰 폰트를 사용'},\n",
       "  'top3': {'추론': '무등왕돈까스 & 진짜 왕쫄면',\n",
       "   '근거': '두 상호가 같은 간판에 나타나긴 하지만 무등왕돈까스가 주된 상호로 보임'},\n",
       "  'top4': {'추론': 'xxx', '근거': '간판에서 제공된 정보가 이 외에는 부족함'},\n",
       "  'top5': {'추론': 'xxx', '근거': '간판에서 제공된 정보가 이 외에는 부족함'}},\n",
       " '전화번호': {'top1': {'추론': '062-384-0502', '근거': '간판에 명시된 유일한 전화번호임.'},\n",
       "  'top2': {'추론': 'xxx', '근거': '간판에 기록된 전화번호가 하나뿐임.'},\n",
       "  'top3': {'추론': 'xxx', '근거': '간판에 기록된 전화번호가 하나뿐임.'},\n",
       "  'top4': {'추론': 'xxx', '근거': '간판에 기록된 전화번호가 하나뿐임.'},\n",
       "  'top5': {'추론': 'xxx', '근거': '간판에 기록된 전화번호가 하나뿐임.'}},\n",
       " '지역': {'top1': {'추론': '광주', '근거': '전화번호 앞자리(062)가 광주 지역 코드임.'},\n",
       "  'top2': {'추론': 'xxx', '근거': '간판에 명시된 정보에서 유추할 수 있는 지역이 광주밖에 없음.'},\n",
       "  'top3': {'추론': 'xxx', '근거': '간판에 명시된 정보에서 유추할 수 있는 지역이 광주밖에 없음.'},\n",
       "  'top4': {'추론': 'xxx', '근거': '간판에 명시된 정보에서 유추할 수 있는 지역이 광주밖에 없음.'},\n",
       "  'top5': {'추론': 'xxx', '근거': '간판에 명시된 정보에서 유추할 수 있는 지역이 광주밖에 없음.'}},\n",
       " '지점': {'top1': {'추론': 'xxx', '근거': '간판에 지점에 대한 명확한 정보가 없음.'},\n",
       "  'top2': {'추론': 'xxx', '근거': '간판에 지점에 대한 명확한 정보가 없음.'},\n",
       "  'top3': {'추론': 'xxx', '근거': '간판에 지점에 대한 명확한 정보가 없음.'},\n",
       "  'top4': {'추론': 'xxx', '근거': '간판에 지점에 대한 명확한 정보가 없음.'},\n",
       "  'top5': {'추론': 'xxx', '근거': '간판에 지점에 대한 명확한 정보가 없음.'}}}"
      ]
     },
     "execution_count": 32,
     "metadata": {},
     "output_type": "execute_result"
    }
   ],
   "source": [
    "json.loads(completion.choices[0].message.content)"
   ]
  },
  {
   "cell_type": "code",
   "execution_count": 34,
   "metadata": {},
   "outputs": [],
   "source": [
    "from openai import OpenAI\n",
    "import json\n",
    "\n",
    "client = OpenAI()\n",
    "\n",
    "description = \"\"\"ArithmeticError컴퓨터 하드웨어란 무엇인가요?\n",
    "귀하의 컴퓨터에 어떤 하드웨어가 들어있는지 알고 싶으세요? 필요한 요소와 그 역할에 대한 빠른 가이드를 파악하고 컴퓨터 전문가가 되십시오.\n",
    "\n",
    "아주 간단히 말해서, 컴퓨터 하드웨어는 컴퓨터 시스템이 작동하는 데 필요한 물리적 구성 요소입니다. 마더보드, 그래픽 카드, 중앙처리장치(CPU), 환기용 팬, 웹캠, 전원 공급 장치 등을 포함하여 PC 또는 노트북 내에서 작동하는 회로 기판에 있는 모든 것을 포괄합니다.\n",
    "\n",
    "데스크톱 PC와 노트북은 크기 차이로 인해 각 하드웨어의 설계는 다르지만, 두 가지 모두 핵심 구성 요소는 동일합니다. 하드웨어가 없다면, 컴퓨터를 그렇게 유용하게 만드는 필수 소프트웨어를 실행할 방법이 없습니다. 소프트웨어는 운영 체제, 인터넷 브라우저, 워드프로세서 등과 같이 컴퓨터에서 실행되는 가상 프로그램으로 정의합니다.\n",
    "\n",
    "컴퓨터를 구동하려면 하드웨어와 소프트웨어가 함께 작동해야 하지만, 시스템의 속도는 사용하는 하드웨어에 많은 영향을 받습니다.\n",
    "\n",
    "새 컴퓨터를 만들거나 단순히 오래된 부품을 교체할 때에도 컴퓨터에 있는 특정 하드웨어에 대해 알고 있어야 할 수 있습니다. 이에 따라 본 가이드의 목적은 컴퓨터의 내부 작동 방식을 이해하는 데 도움을 주는 것입니다.\n",
    "\n",
    "마더보드란?\n",
    "마더보드는 PC를 작동하는 데 중심적인 역할을 합니다. 그리고 CPU가 장착되는 곳이며 다른 모든 하드웨어가 실행되는 허브입니다. 마더보드는 필요한 곳에 전원을 할당하고, 다른 모든 구성 요소와 통신하고 조정 작업을 수행하는 두뇌 역할을 하며 컴퓨터에서 가장 중요한 하드웨어 중 하나입니다.\n",
    "\n",
    "마더보드를 고를 때는 마더보드에 어떤 하드웨어 포트가 있는지 확인하는 것이 중요합니다. 구체적으로 USB 포트 수, 유형(USB 2.0, 3.0, 3.1), 사용된 디스플레이 포트(HDMI, DVI, RGB) 및 각각의 수를 확인하는 것이 중요합니다. 또한 마더보드의 포트는 RAM 및 그래픽 카드의 유형과 같이 다른 하드웨어 중 어떤 하드웨어가 컴퓨터와 호환 가능한지 결정하는 데 도움이 됩니다.\n",
    "\n",
    "마더보드는 하나의 회로 조각이지만, 하드웨어에서 가장 중요한 부품 중 하나인 프로세서가 장착되는 곳입니다.\"\"\"\n",
    "\n",
    "completion = client.chat.completions.create(\n",
    "      model=\"gpt-4-0125-preview\",\n",
    "      response_format={ \"type\": \"json_object\" },\n",
    "      messages=[\n",
    "        {\"role\": \"system\", \"content\": \"개념을 설명하는 텍스트가 주어지면 이것을 게임 '리그오브레전드'에 비유해서 더 재밌게 설명해줘, json 형식으로\"},\n",
    "        {\"role\": \"user\", \"content\": str(description)}\n",
    "      ]\n",
    ")\n"
   ]
  },
  {
   "cell_type": "code",
   "execution_count": 35,
   "metadata": {},
   "outputs": [
    {
     "data": {
      "text/plain": [
       "{'컴퓨터 하드웨어 설명': {'리그 오브 레전드 비유': '컴퓨터 시스템이 리그 오브 레전드 게임의 맵인 소환사의 협곡이라고 상상해 보세요. 마치 게임 내에서 챔피언들이 각자의 역할을 수행하며 팀을 승리로 이끄는 것처럼, 컴퓨터 하드웨어는 소환사의 협곡에서 각자의 역할을 하는 챔피언들과 같습니다. 이들은 컴퓨터라는 팀을 승리로 이끌기 위해 함께 작동합니다.'},\n",
       " '마더보드 설명': {'리그 오브 레전드 비유': \"마더보드를 리그 오브 레전드에서 '정글러' 챔피언으로 생각해보세요. 정글러는 게임 맵 전체를 돌아다니며 팀의 다른 멤버들과 상호작용하고, 필요한 지원을 제공하는 중요한 역할을 합니다. 마찬가지로, 마더보드는 컴퓨터의 모든 하드웨어가 연결되고 통신하는 중심적인 플랫폼으로, 필요한 부품에 전원을 공급하고 데이터를 전송하는 두뇌와 같은 역할을 합니다. 마더보드 없이는 컴퓨터 내의 다른 모든 챔피언들, 즉 하드웨어 부품들이 제 역할을 할 수 없습니다. 마더보드의 포트와 슬롯들은 각기 다른 능력을 가진 챔피언들과 같아서, 컴퓨터와 호환되는 하드웨어의 종류와 연결 방식을 결정합니다.\"}}"
      ]
     },
     "execution_count": 35,
     "metadata": {},
     "output_type": "execute_result"
    }
   ],
   "source": [
    "json.loads(completion.choices[0].message.content)"
   ]
  },
  {
   "cell_type": "code",
   "execution_count": null,
   "metadata": {},
   "outputs": [],
   "source": []
  }
 ],
 "metadata": {
  "kernelspec": {
   "display_name": "GPTalk",
   "language": "python",
   "name": "python3"
  },
  "language_info": {
   "codemirror_mode": {
    "name": "ipython",
    "version": 3
   },
   "file_extension": ".py",
   "mimetype": "text/x-python",
   "name": "python",
   "nbconvert_exporter": "python",
   "pygments_lexer": "ipython3",
   "version": "3.10.0"
  }
 },
 "nbformat": 4,
 "nbformat_minor": 2
}
