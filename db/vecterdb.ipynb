{
 "cells": [
  {
   "cell_type": "code",
   "execution_count": 2,
   "metadata": {},
   "outputs": [],
   "source": [
    "import lmdb\n",
    "import json\n",
    "import openai\n",
    "import numpy as np\n",
    "import pandas as pd"
   ]
  },
  {
   "cell_type": "code",
   "execution_count": null,
   "metadata": {},
   "outputs": [],
   "source": [
    "client = openai.OpenAI()"
   ]
  },
  {
   "cell_type": "code",
   "execution_count": 3,
   "metadata": {},
   "outputs": [],
   "source": [
    "class VecterDB:\n",
    "    DB_DIR = \".\"\n",
    "    \n",
    "    def __init__(self):\n",
    "        self.env = lmdb.open(VecterDB.DB_DIR, map_size=10485760*4)\n",
    "    \n",
    "    @staticmethod\n",
    "    def similarity(v1, v2):  # return dot product of two vectors\n",
    "        return np.dot(v1, v2)\n",
    "    \n",
    "    @staticmethod\n",
    "    def get_embedding(content, model='text-embedding-ada-002'):\n",
    "        response = client.embeddings.create(input=content, model=model)\n",
    "        vector = response.data[0].embedding\n",
    "        return vector\n",
    "    \n",
    "    def make_vector_db(self, df):\n",
    "        with self.env.begin(write=True) as txn:\n",
    "            for id, [question, answer] in df[[\"question\", \"answer\"]].iterrows():\n",
    "                txn.put(f\"Q_{id}\".encode(), question.encode())\n",
    "                txn.put(f\"A_{id}\".encode(), answer.encode())\n",
    "                \n",
    "                question = json.dumps(VecterDB.get_embedding(question))\n",
    "                answer = json.dumps(VecterDB.get_embedding(answer))\n",
    "                txn.put(f\"QE_{id}\".encode(), question.encode())\n",
    "                txn.put(f\"AE_{id}\".encode(), answer.encode())\n",
    "            \n",
    "            txn.put(b\"num_samples\", str(len(df)).encode())\n",
    "                \n",
    "    def get_num(self):\n",
    "        with self.env.begin() as txn:\n",
    "            return int(txn.get(b'num_samples').decode()) \n",
    "            \n",
    "    def get_qe(self, idx):\n",
    "        with self.env.begin() as txn:\n",
    "            question = json.loads(txn.get(f\"QE_{idx}\".encode()).decode())\n",
    "            return question\n",
    "        \n",
    "    def get_ae(self, idx):\n",
    "        with self.env.begin() as txn:\n",
    "            question = json.loads(txn.get(f\"AE_{idx}\".encode()).decode())\n",
    "            return question\n",
    "        \n",
    "    def get_q(self, idx):\n",
    "        with self.env.begin() as txn:\n",
    "            question = txn.get(f\"Q_{idx}\".encode()).decode()\n",
    "            return question\n",
    "        \n",
    "    def get_a(self, idx):\n",
    "        with self.env.begin() as txn:\n",
    "            question = txn.get(f\"A_{idx}\".encode()).decode()\n",
    "            return question\n",
    "    \n",
    "        \n",
    "    def __del__(self):\n",
    "        self.env.close()\n",
    "\n",
    "    def get_pisible_answers(self, question, t_num):\n",
    "        num = self.get_num()\n",
    "        QE = self.get_embedding(question)\n",
    "        answers = []\n",
    "        for id in range(num):\n",
    "            qe = self.get_qe(id)\n",
    "            sim = self.similarity(QE, qe)\n",
    "            answers.append([sim, id])\n",
    "            answers.sort(reverse=True)\n",
    "            if len(answers) > t_num:\n",
    "                answers.pop()\n",
    "        \n",
    "        return [[self.get_a(id), sim] for sim, id in answers]"
   ]
  },
  {
   "cell_type": "code",
   "execution_count": 4,
   "metadata": {},
   "outputs": [],
   "source": [
    "df = pd.read_excel(\"./../crawling/result.xlsx\")\n",
    "db = VecterDB()\n",
    "# db.make_vector_db(df)"
   ]
  },
  {
   "cell_type": "code",
   "execution_count": 5,
   "metadata": {},
   "outputs": [
    {
     "data": {
      "text/plain": [
       "[[\"안녕하세요.질문에 답변드리겠습니다.'국내 기업들의 에너지 절감 노력으로 수출 제품의 가격 경쟁력이 향상되었다.'해당 내용의 경우 변동 원인인 '에너지 절감 노력'으로 총수요 혹은 총공급의 변화를 파악해야 합니다.에너지 절감 노력은 생산 기술 향상 또는 생산 비용의 감소로 파악해야 하므로 총공급 증가로 분석해야 합니다.총수요와 총공급의 변동과 관련해서는 '변동 원인'이 무엇인지 파악하는 것이 중요합니다.문제 풀이시에 '변동 원인'을 찾는 연습을 한다면 좀 더 쉽게 문제 해결을 할 수 있습니다.답변이 학습에 도움이 되었기를 바랍니다.\",\n",
       "  0.9999999677584885],\n",
       " [\"안녕하세요.질문에 답변드리겠습니다.공급자 입장에서 미래에 가격이 상승할 것으로 예상이 된다면현재 공급을 하는 것보다 상승한 가격으로 공급할 수 있는 미래에 공급을 하는 것이 더 이득이 될 것입니다.결국 공급자는 미래에 공급할 것을 목적으로 '현재의 공급은 감소'시키게 되는 것입니다.공급 변동의 요인에서는 '미래 가격 예상'은 예상에 따라 '현재의 공급'을 어떻게 변화시킬 것인지를분석해야 하는 것입니다.답변이 학습에 도움이 되었기를 바랍니다.\",\n",
       "  0.9181551038451005],\n",
       " ['총수요, 총공급의 변동 파트에서…박봄 선생님께서 \"국내 기업들이 에너지 절감 노력으로 수출 제품의 가격 경쟁력이 향상되었다.\" 이 부부분을 총공급 변동으로 설명하셨는데요. 수출 상품의 가격 경쟁력이 향상되면 수출이 증가할 것이고, 그럼 순수출이 증가해서 총수요가 증가하는 것이 맞지 않나요?위 질문에 관한 답변입니다.일단 질문에서 말씀하신 \\'국내 기업들이 에너지 절감으로 수출 제품의 가격 경쟁력이 향상되었다.\\'는 부분에서 에너지 절감 노력은 생산비의 절감이라고 볼 수 있고, 총공급을 늘리는 직접적인 영향에 해당됩니다. 물론, 그 이후에 수출경쟁력이 높아졌기 때문에 순수출은 증가할 것입니다.수요, 공급에서 학습하셨던 것을 기억해 보시면 비슷하다고 할 수 있습니다. 원인이냐 결과냐의 문제로 보시면 됩니다. 생산비 절감이 직접적으로 미치는 부분은 총공급입니다. 그 결과 그것이 수출품이라면 총수요 증가 요인은 되겠지만 1차적으로는 총공급의 요인으로 보시는 게 맞습니다.질문하신 부분은 충분히  수요와 공급에서 늘 고민하는 부분입니다. 아시다시피 수요와 공급 법칙은 다른 모든 것이 일정할 때 직접적인 영향을 미치는 부분만을 변동의 원인으로 보기 때문에 인강에서 설명하신 총수요와 총공급의 변동 원인을 적용시키셔서 문제를 푸시면 됩니다.아주 예리하고 늘 고민스러운 문제를 물어봐 주셨는데, 이해에 도움이 되셨으면 좋겠습니다.^^',\n",
       "  0.9181170007948761],\n",
       " ['미래 가격이 상승할 것으로 예상되면 미래에 파는 게 이득이니까 현재의 공급이 감소한다는 건 이해했는데 미래 가격이 하락할 것으로 예상될 때 공급이 증가하는 건 이해가 잘 안 가요.나중엔 지금보다 비싸게 못 파니까 지금 팔려고 공급이 증가하는 건가요? 근데 가격이 하락할 거라면 소비자들이 지금 안 살텐데 그럼 지금 공급을 해봤자 안 팔리지 않나요…? 공급해도 안 팔릴 걸 아는데도 공급이 증가하나요?? 여기선 그런 건 배제하고 생각해야되는 걸까요?답변입니다.이런 부분은 철저하게 생산자의 입장에서만 생각해야 합니다.이런 부분이 혼란이 오는게 대부분 소비자의 입장에서만 고민하였기 때문입니다.미래 가격이 하락할 것이 예상된다면 이후에 더 저렴한 가격으로 팔아야 하니 당장 공급을 증가시키는게 이윤을 추구하는 기업의 목적이 실현된다고 생각해야 합니다.도움이 되셨으면 좋겠습니다.',\n",
       "  0.9007256024353096],\n",
       " [\"총수요는 지출국민소득과 계산 방법이 이론상 동일하여 (소비지출+투자지출+정부지출+순수출 = 총수요) 라고 이해했습니다. 그런데 교재 110쪽 61번-1번선지(수입 원자재 가격상승은 'ㄱ'(총공급감소)의 원인이다. ) 가 정답으로 제시된 것이 이해가 잘 되지 않습니다. 수입 원자재의 가격 상승은 우리나라에서 해외로부터 수입한 금액이 늘어나는 것이기 때문에, 순수출(수출 - 수입)을 계산할 때 수입 금액이 늘어나게 되어서 총수요가 감소하는 상황이라고 해석할 수는 없나요? 그렇다면 순수출을 계산할 때 수출에서 삭감하는 수입 비용은 정확히 무엇을 가리키는 것이고 수입 원자재 가격 상승과는 왜 관련이 없는건가요?질문에 관한 답변입니다.일단 질문에서 말씀하신 '수입 원자재의 가격 상승은 우리나라에서 해외로부터 수입한 금액이 늘어나는 것이기 때문에, 순수출(수출 - 수입)을 계산할 때 수입 금액이 늘어나게 되어서 총수요가 감소하는 상황이라고 해석할 수는 없나요?' 라고 질문하신 부분에 대해 답변드리자면, 수요, 공급에서 학습하셨던 것을 기억해 보시면 비슷하다고 할 수 있습니다. 원인이냐 결과냐의 문제로 보시면 됩니다. 1번 선지의 내용을 보시면 수입원자재의 가격 상승이 직접적으로 미치는 부분은 총공급입니다. 물론 결과적으로 수출 금액이 일정한 상태에서 수입액만 늘어나면 총수요가 늘어날 수 있습니다. 하지만 직접적으로 수입 원자재의 가격이 오르면 공급에 영향을 미쳐서 수입이 감소할 수 있고 선지에서는 직접적인 원인을 묻는 부분이기 때문에 맞다고 볼 수 있습니다.질문하신 부분은 충분히  수요와 공급에서 늘 고민하는 부분입니다. 아시다시피 수요와 공급 법칙은 다른 모든 것이 일정할 때 직접적인 영향을 미치는 부분만을 변동의 원인으로 보기 때문에 인강에서 설명하신 총수요와 총공급의 변동 원인을 적용시키셔서 문제를 푸시면 됩니다.아주 예리하고 늘 고민스러운 문제를 물어봐 주셨는데, 이해에 도움이 되셨으면 좋겠습니다.^^\",\n",
       "  0.8909805185213326],\n",
       " ['수요가 증가하는만큼 공급이 감소할때에도 거래량은 변화가 없고 균형점이 a로 가지 않나요?왜 선생님께서 바로 공급곡선을 수직으로 그리셨는지 모르겠어요…답변입니다.주어진 조건이 수요곡선만 증가하였는데 균형점이 E에서 a로 이동하는 경우는 공급곡선이 수직인 경우에만 가능하기 때문입니다.공급곡선이 같은 비율로 감소하는 경우 가능하지만 주어진 조건이 없어서 같은 비율이 아닌 경우도 가능하므로 어떤 경우에도 균형점이 a로 바뀌는 것은 공급곡선이 수직인 경우만 가능하기 때문입니다.도움이 되셨으면 좋겠습니다.',\n",
       "  0.8903515352265756],\n",
       " ['네. 개념적으로는 가능합니다.특정 재화의 수요가 매우 감소하고, 공급이 매우 증가한다면 희소성이 없는 무상재가 될 수 있습니다.다만, 현실의 사례로 찾아보긴 어렵습니다. 개념적으로 존재할 수 있구나! 정도로 이해하시는게 좋을 것 같습니다:)',\n",
       "  0.8897869909206158]]"
      ]
     },
     "execution_count": 5,
     "metadata": {},
     "output_type": "execute_result"
    }
   ],
   "source": [
    "question = \"자료2에 나와있는 공급량을 자료1에 그리면 수요곡선과 공급곡선의 가격이 50과 60사이에서 만나고 60에 더 가깝게 그려지지만 딱 60원을 지나지는 않는데 어떻게 60원이라고 할 수 있는건가요?\"\n",
    "# question = \"근로소득,사업소득,이전소득,재산소득이먼지예를들어설명해주세요\"\n",
    "question = \"수출 제품의 가격 경쟁률이 올라가면 순수출이 늘고 그럼 결국 총수요가 증가하는게 왜 아닌가요?왜 총공급이 증가하는건지 이해가 안됩니다ㅠㅠ\"\n",
    "db.get_pisible_answers(question, 7)"
   ]
  }
 ],
 "metadata": {
  "kernelspec": {
   "display_name": "GPTalk",
   "language": "python",
   "name": "python3"
  },
  "language_info": {
   "codemirror_mode": {
    "name": "ipython",
    "version": 3
   },
   "file_extension": ".py",
   "mimetype": "text/x-python",
   "name": "python",
   "nbconvert_exporter": "python",
   "pygments_lexer": "ipython3",
   "version": "3.10.0"
  }
 },
 "nbformat": 4,
 "nbformat_minor": 2
}
