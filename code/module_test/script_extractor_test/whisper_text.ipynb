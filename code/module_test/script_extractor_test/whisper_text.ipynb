{
 "cells": [
  {
   "cell_type": "code",
   "execution_count": 1,
   "metadata": {},
   "outputs": [],
   "source": [
    "from utils.script_extractor import WisperScriptExtractor\n",
    "\n",
    "path = \"./01강 1. 희소성과 합리적 선택 (1)_(고3-기본).mp3\"\n",
    "path = \"./half.mp3\"\n",
    "extractor = WisperScriptExtractor()\n",
    "result = extractor(path)"
   ]
  },
  {
   "cell_type": "code",
   "execution_count": 2,
   "metadata": {},
   "outputs": [
    {
     "data": {
      "text/plain": [
       "[['00:00:00,000 --> 00:00:15,900',\n",
       "  '여러분 경제 성적의 봄이 왔습니다. 안녕하세요 저는 박봄입니다. 반갑습니다.'],\n",
       " ['00:00:15,900 --> 00:00:20,100', '이 경제라는 과목이 허들이 높아요.'],\n",
       " ['00:00:20,100 --> 00:00:25,900',\n",
       "  '수능 과목으로 선택해야 돼 말아야 돼 경제 공부하고 싶긴 한데 이게 가능해 불가능해'],\n",
       " ['00:00:25,900 --> 00:00:31,200', '하는 마음으로 이렇게 클릭 한번 했을 학생들을 제가 꽉 부여잡겠습니다.'],\n",
       " ['00:00:31,200 --> 00:00:35,500', '이 경제 과목만큼 유용한 과목이 없어요.'],\n",
       " ['00:00:35,500 --> 00:00:40,900', '성인이 되잖아요. 성인이 되면 영어를 언제까지나 붙들고 있어'],\n",
       " ['00:00:40,900 --> 00:00:43,900', '역사도 좀 체계적으로 공부하고 싶어진다.'],\n",
       " ['00:00:43,900 --> 00:00:48,799', '거기에 또 하나가 경제입니다. 어쩌면 경제에 관심이 제일 많을 수도 있지'],\n",
       " ['00:00:48,799 --> 00:00:55,200',\n",
       "  '물론 성인이 돼서 만나는 실물 경제는 우리가 교과서에서 배우는 경제랑 조금 다르기는 한데'],\n",
       " ['00:00:55,299 --> 00:00:59,200', '성인이 돼서 각종 경제 현상들을 막 보다 보면']]"
      ]
     },
     "execution_count": 2,
     "metadata": {},
     "output_type": "execute_result"
    }
   ],
   "source": [
    "result[:10]"
   ]
  },
  {
   "cell_type": "code",
   "execution_count": 6,
   "metadata": {},
   "outputs": [],
   "source": [
    "\n",
    "from utils.vecterdb import ChromaDB\n",
    "db = ChromaDB(collection_name = \"test\")\n",
    "\n",
    "for i, [time_stemp, transcription] in enumerate(result[:-1]):\n",
    "    db.add(id = str(i), document=transcription, metadata={\"timestemp\":time_stemp})"
   ]
  },
  {
   "cell_type": "code",
   "execution_count": 8,
   "metadata": {},
   "outputs": [
    {
     "data": {
      "text/plain": [
       "{'ids': [['273',\n",
       "   '117',\n",
       "   '249',\n",
       "   '272',\n",
       "   '248',\n",
       "   '200',\n",
       "   '193',\n",
       "   '277',\n",
       "   '360',\n",
       "   '274']],\n",
       " 'distances': [[0.27992406487464905,\n",
       "   0.2874000668525696,\n",
       "   0.2981536090373993,\n",
       "   0.311745822429657,\n",
       "   0.3135664761066437,\n",
       "   0.315947949886322,\n",
       "   0.3177551329135895,\n",
       "   0.3229790925979614,\n",
       "   0.32510318986219006,\n",
       "   0.3264400362968445]],\n",
       " 'embeddings': None,\n",
       " 'metadatas': [[{'timestemp': '00:15:06,539 --> 00:15:09,039'},\n",
       "   {'timestemp': '00:08:26,799 --> 00:08:33,299'},\n",
       "   {'timestemp': '00:14:14,559 --> 00:14:17,299'},\n",
       "   {'timestemp': '00:15:04,039 --> 00:15:06,539'},\n",
       "   {'timestemp': '00:14:11,559 --> 00:14:14,559'},\n",
       "   {'timestemp': '00:12:11,840 --> 00:12:14,840'},\n",
       "   {'timestemp': '00:11:50,340 --> 00:11:51,840'},\n",
       "   {'timestemp': '00:15:19,039 --> 00:15:21,539'},\n",
       "   {'timestemp': '00:18:08,260 --> 00:18:10,260'},\n",
       "   {'timestemp': '00:15:12,039 --> 00:15:13,539'}]],\n",
       " 'documents': [['생산에 필요한 것을 생산요소라고 말합니다.',\n",
       "   '생산물하고 생산요소가 경제활동의 대상입니다.',\n",
       "   '기업이 생산해내기 위해서는 뭐가 필요하지?',\n",
       "   '생산에 필요한 것을 무엇이라고 말하냐면',\n",
       "   '또는 생산해내기 위해서는 뭐가 필요하겠어요?',\n",
       "   '이것도 생산이다라고 하는 거야.',\n",
       "   '따라서 생산이라고 말할 때는',\n",
       "   '그래서 이 노동이 대표적인 생산요소거든요.',\n",
       "   '그래서 이 생산을 뭐라고 말하냐면',\n",
       "   '그래서 생산에 필요한 거']],\n",
       " 'uris': None,\n",
       " 'data': None}"
      ]
     },
     "execution_count": 8,
     "metadata": {},
     "output_type": "execute_result"
    }
   ],
   "source": [
    "question = \"국내 총생산이 최종생산품의 시장가치 합이라고 설명을 해주셨는데 그럼 원래 최종생산품으로 이어져야 할 재료이지만 그 자체로도 최종생산품의 가치를 지니는 경우에는 국내총생산에 포함이 되는지 궁금합니다.(예를 들어 스마트폰을 생산하기 위해 액정, 배터리, 각종 센서 등이 필요하지만 최종적인 스마트폰의 형태가 아닌 액정의 형태로 판매가 될 경우 이것들도 국내 총생산에 들어가는지)\"\n",
    "answer = \"국내 총생산이 최종생산품의 시장가치 합이라고 설명을 해주셨는데 그럼 원래 최종생산품으로 이어져야 할 재료이지만 그 자체로도 최종생산품의 가치를 지니는 경우에는 국내총생산에 포함이 되는지 궁금합니다.(예를 들어 스마트폰을 생산하기 위해 액정, 배터리, 각종 센서 등이 필요하지만 최종적인 스마트폰의 형태가 아닌 액정의 형태로 판매가 될 경우 이것들도 국내 총생산에 들어가는지)답변입니다.가능한 부분입니다.예를 들어 밀가루로 빵을 만드는 경우 빵은 최종 생산물이 되고가계에 밀가루를 판매하는 경우 이 밀가루도 최종 생산물에 포함됩니다.도움이 되셨으면 좋겠습니다.\"\n",
    "\n",
    "db.query([question, answer], n_results=10)\n"
   ]
  },
  {
   "cell_type": "code",
   "execution_count": null,
   "metadata": {},
   "outputs": [],
   "source": []
  }
 ],
 "metadata": {
  "kernelspec": {
   "display_name": "GPTalk",
   "language": "python",
   "name": "python3"
  },
  "language_info": {
   "codemirror_mode": {
    "name": "ipython",
    "version": 3
   },
   "file_extension": ".py",
   "mimetype": "text/x-python",
   "name": "python",
   "nbconvert_exporter": "python",
   "pygments_lexer": "ipython3",
   "version": "3.10.0"
  }
 },
 "nbformat": 4,
 "nbformat_minor": 2
}
