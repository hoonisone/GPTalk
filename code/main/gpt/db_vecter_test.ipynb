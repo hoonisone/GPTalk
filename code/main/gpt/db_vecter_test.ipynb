{
 "cells": [
  {
   "cell_type": "code",
   "execution_count": 2,
   "metadata": {},
   "outputs": [],
   "source": [
    "from gpt.gpt_model import Q_A_Generator"
   ]
  },
  {
   "cell_type": "code",
   "execution_count": 3,
   "metadata": {},
   "outputs": [],
   "source": [
    "with open(\"script.txt\") as f:\n",
    "      script = \"\".join(f.readlines())\n",
    "\n",
    "teacher = {\n",
    "      \"나이\":\"25살\",\n",
    "      \"이름\":\"채송화\",\n",
    "      \"성별\":\"여성\",\n",
    "      \"직업\":\"고등학교 사회선생님\",\n",
    "      \"성격\":\"온화, 다정, 나긋\",\n",
    "}\n",
    "\n",
    "student = {\n",
    "      \"나이\":\"초등학교 4학년\",\n",
    "      \"이름\":\"짱구\",\n",
    "      \"성별\":\"남성\",\n",
    "      \"직업\":\"학생\",\n",
    "      \"성격\":[\"개구장이\", \"발랄\"],\n",
    "}\n",
    "\n",
    "qeustion = \"학습한 개념을 잘 이해했는지 스스로 확인하기 위해 자신의 일상과 연관지어 예를 들고 이것이 맞는지 확인하는 질문\"\n",
    "qeustion_num = 5\n",
    "\n",
    "generator = Q_A_Generator()\n",
    "\n",
    "# script_summary = generator.summary(script)\n",
    "with open(\"script_summary.txt\") as f:\n",
    "    script_summary = \"\".join(f.readlines())"
   ]
  },
  {
   "cell_type": "code",
   "execution_count": 23,
   "metadata": {},
   "outputs": [],
   "source": [
    "qeustion = \"컴퓨터를 구매하는 것은 어떤 경제적 활동인가요? 생산인가요?\"\n",
    "answer1 = generator.answer_for_question(script_summary, student, teacher, qeustion, use_vecter_db=False)"
   ]
  },
  {
   "cell_type": "code",
   "execution_count": 24,
   "metadata": {},
   "outputs": [
    {
     "name": "stdout",
     "output_type": "stream",
     "text": [
      "네. 답변 드리겠습니다.경제 주체가 '정부'일 경우에는 소비의 정의에 따라 답이 달라질 수 있습니다. 교육과정을 넘어서는 디테일한 내용이라고 할 수 있습니다. 1.통상 소비 활동은 가계의 경제 활동만으로 알고 있지만, 우리나라에서는 소비 활동을 추계할 때 가계 소비 외에 정부가 하는 소비도 포함됩니다. 따라서 소비의 주체에는 가계와 정부가 포함될 수 있습니다.2. 정부가 컴퓨터를 구입하는 사례는 소비 활동이 될 수도, 생산 활동이 될 수도 있습니다. 이는 소비 활동을 어떻게 해석하느냐에 달라질 수 있는 어려운 사례입니다. 매우 매우 단순화하여 이를 구분해본다면, 최종적으로 사용해 써버렸느냐 or 생산 활동에 반복하여 사용하였느냐에 따라 구분해 볼 수 있습니다.예를 들어, 정부가 취약 계층을 지원하기 위해 컴퓨터를 구입하고 취약 계층에 지급하였다면 소비 활동으로,정부가 교사의 업무를 지원하기 위해 컴퓨터를 구입하여 학교에 보급하였다면 생산 활동으로 볼 수 있습니다.전자의 사례는 재화로, 후자의 사례는 자본으로 볼 수 있습니다.다만,  해당 질문은 교육 과정을 벗어나는 내용으로 엄밀한 의미에서는 정확한 설명이나 예시가 아닐 수 있습니다. 대강 이 정도로 이해할 수 있다는 정도로 참고하셨으면 좋겠습니다. 완벽한 답변이 되지 못해 미안합니다ㅠ 혹시 여전히 이해가 안된다면 새롭게 질문을 올려주세요. 다른 선생님들께서 도와주실거에요. \n",
      "맞습니다. 자본으로도 볼 수 있습니다.'컴퓨터를 구입하는 행위' 자체만으로는 소비 활동인지, 생산 활동인지 알 수 없습니다.이를 구분하는 기준은 1. 경제 주체가 가계이며 소비 활동을 위해 구입하였는지2. 경제 주체가 기업이며 생산 활동을 위해 구입하였는지에 따라 '컴퓨터'를1 -> 소비 활동의 객체인 재화로2 -> 생산 활동에 필요한 요소인 자본으로 나눠볼 수 있습니다.매우 좋은 질문입니다:)\n",
      "안녕하세요.질문에 답변드리겠습니다.아래 내용은 일반적인 경우를 가정하고 답변하였습니다.문제의 발문, 자료, 선지 등에 따라 달라질 수 있는 부분이 있으므로 문제를 통해 질문을 한다면더욱 명확한 답변을 드릴 수 있습니다.생산은 '부가 가치를 창출'하는 경제 활동을 의미합니다.생산 요소를 제공하는 행위 자체를 '생산'으로 정의할 수는 없지만,생산 요소의 제공을 통해 생산에 기여하는 것이므로 '생산 활동에 기여한다(참여한다).'로 설명할 수 있습니다.생산, 분배, 소비는 명확히 구분되는 개념이기는 하지만 경제 활동(생산, 분배, 소비)이 연속성을 가지고 순환하는 과정임을생각한다면 내용 이해에 도움이 될 것이라고 생각합니다.답변이 학습에 도움이 되었기를 바랍니다. \n",
      "정부 정책을 위해 소비한다고 해서 생산물 시장의 수요자라고 하셨는데 정책을 통한 생산활동을 위해 소비하는 거라고 본다면 공급자아닌가요?정부가 생산요소 시장의 공급자도 될 수 있나요?답변입니다.생산물 시장에서 정부는 수요자이자 공급자의 역할을 합니다.생산요소시장에서 정부는 수요자의 역할만 합니다.생산물 시장에서 가계는 수요자 역할을 하고생산요소시장에서 가계는 공급자 역할을 합니다생산물 시장에서 기업은 공급자 역할을 하고생산요소시장에서 기업은 수요자 역할을 합니다.해당 내용은 기출문제가 많으니 꼭 기억해야 하는 부분입니다.생산물시장에서 전기나 수도의 경우 정부가 공급하는데 이런 경우 공급자로 봐야하고단순하게 기업이 생산한 물건을 소비하는 측면이라면 수요자에 해당됩니다.도움이 되셨으면 좋겠습니다. \n",
      "1.경제황동 유형에서 생산은 재화나 서비스의 가치를 증대 시키는 것은 생산이고 생산활동에 참여한 대가를 받는 활동을 분배라고 배웠습니다.그렇다면 은행이 기업에게 자본을 빌려준 대가로 이자를 받는 것 역시 분배로 볼 수 있는 건가요?그에 더해 분배를 받는 쪽은 반드시 가계여야만 하는 걸까요?2.소비는 만족감을 얻기 위해 재화나 서비스를 구매 하는 것이라면 같은 사과리는 물건이 있더라도가계가 사과를 산다면 생산물로써, 기업이나 정부가 산다면 생산요소로써 구매하는 거라고 이해해야 할까요?3.경제 순환 모형에서 정부는 조세를 통해 공공 서비스를 제공하므로 생산을 하고, 공무원들의 봉급을 지급하므로 분배를 하는것이며,생산물 시장에서 재화와 서비스를 구매하므로 소비 역시 하는 건가요?그렇다면 정부가 사과라는 물건을 구매할때 생산물의 성격인지 생산요소의 성격인지 구분할 수 있는 방법이 있을까요?-------------------------------------------------------------------------------------------------------------1. 은행의 대출을 통해 거둔 수익은 금융 서비스를 제공한 대가로 얻는 판매 수입이라고 볼 수 있습니다. 가계는 노동, 토지, 자본 등 생산요소의 소유자로 이를 제공하고 이에 대한 대가를 받는 과정을 분배 활동이라고 합니다.2. 비슷하지만, 한 가지는 명확하지 않을 수 있습니다. 정부에서 사과를 부가가치를 창출하기 위한 수단이 아니라 최종 생산물로써 활용하는 상황에선 생산 요소라고 보기 어렵습니다.3. 앞서 답변 드렸던 것처럼 구매한 재화를 중간재로 사용하느냐, 최종 생산물로 사용하느냐에 따라 달라질 수 있습니다.+ 답변의 질을 위하여 하나의 게시글에는 한 가지 질문만 올려주시면 감사하겠습니다.\n"
     ]
    }
   ],
   "source": [
    "qeustion = \"컴퓨터를 구매하는 것은 어떤 경제적 활동인가요? 생산인가요?\"\n",
    "answer2 = generator.answer_for_question(script_summary, student, teacher, qeustion, use_vecter_db=True)"
   ]
  },
  {
   "cell_type": "code",
   "execution_count": 25,
   "metadata": {},
   "outputs": [
    {
     "data": {
      "text/plain": [
       "[0.8942336090275963,\n",
       " 0.9346958131775656,\n",
       " 0.8783558208454345,\n",
       " 0.8706447231797867,\n",
       " 0.867204203006049]"
      ]
     },
     "execution_count": 25,
     "metadata": {},
     "output_type": "execute_result"
    }
   ],
   "source": [
    "import openai\n",
    "import json\n",
    "from db.vecterdb import VecterDB\n",
    "import numpy as np\n",
    "client = openai.OpenAI()\n",
    "\n",
    "\n",
    "db = VecterDB()\n",
    "\n",
    "def similarity(v1, v2):  # return dot product of two vectors\n",
    "    return np.dot(v1, v2)\n",
    "    \n",
    "def get_similar_historpy(question):\n",
    "  history = db.get_similer_history(question, 5)\n",
    "  return history\n",
    "\n",
    "def get_embedding(content, model='text-embedding-ada-002'):\n",
    "    response = client.embeddings.create(input=content, model=model)\n",
    "    vector = response.data[0].embedding\n",
    "    return vector\n",
    "    \n",
    "h = get_similar_historpy(\"컴퓨터를 구매하는 것은 어떤 경제적 활동인가요? 생산인가요?\")\n",
    "answers = [x[\"answer\"] for x in h]\n",
    "result = []\n",
    "\n",
    "for answer in answers:\n",
    "    result.append(similarity(get_embedding(answer1[\"답변\"]), get_embedding(answer)))\n",
    "result"
   ]
  },
  {
   "cell_type": "code",
   "execution_count": 26,
   "metadata": {},
   "outputs": [
    {
     "data": {
      "text/plain": [
       "[0.8990327604874498,\n",
       " 0.9403706666503255,\n",
       " 0.8932445627892759,\n",
       " 0.8728961970854363,\n",
       " 0.8767939291583741]"
      ]
     },
     "execution_count": 26,
     "metadata": {},
     "output_type": "execute_result"
    }
   ],
   "source": [
    "h = get_similar_historpy(\"컴퓨터를 구매하는 것은 어떤 경제적 활동인가요? 생산인가요?\")\n",
    "answers = [x[\"answer\"] for x in h]\n",
    "result2 = []\n",
    "\n",
    "for answer in answers:\n",
    "    result2.append(similarity(get_embedding(answer2[\"답변\"]), get_embedding(answer)))\n",
    "result2"
   ]
  },
  {
   "cell_type": "code",
   "execution_count": 27,
   "metadata": {},
   "outputs": [
    {
     "name": "stdout",
     "output_type": "stream",
     "text": [
      "0.8890268338472864\n",
      "0.8964676232341724\n"
     ]
    }
   ],
   "source": [
    "print(sum(result)/5)\n",
    "print(sum(result2)/5)"
   ]
  },
  {
   "cell_type": "code",
   "execution_count": 28,
   "metadata": {},
   "outputs": [
    {
     "data": {
      "text/plain": [
       "0.8958171270254607"
      ]
     },
     "execution_count": 28,
     "metadata": {},
     "output_type": "execute_result"
    }
   ],
   "source": [
    "0.8918977938908732\n",
    "0.8958171270254607"
   ]
  },
  {
   "cell_type": "code",
   "execution_count": null,
   "metadata": {},
   "outputs": [],
   "source": []
  }
 ],
 "metadata": {
  "kernelspec": {
   "display_name": "GPTalk",
   "language": "python",
   "name": "python3"
  },
  "language_info": {
   "codemirror_mode": {
    "name": "ipython",
    "version": 3
   },
   "file_extension": ".py",
   "mimetype": "text/x-python",
   "name": "python",
   "nbconvert_exporter": "python",
   "pygments_lexer": "ipython3",
   "version": "3.10.0"
  }
 },
 "nbformat": 4,
 "nbformat_minor": 2
}
